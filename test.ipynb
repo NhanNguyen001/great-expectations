{
 "cells": [
  {
   "cell_type": "code",
   "execution_count": 93,
   "metadata": {},
   "outputs": [],
   "source": [
    "# !pip install --upgrade pip"
   ]
  },
  {
   "cell_type": "code",
   "execution_count": 94,
   "metadata": {},
   "outputs": [],
   "source": [
    "# !pip install pyspark great_expectations==1.1.3"
   ]
  },
  {
   "cell_type": "code",
   "execution_count": 95,
   "metadata": {},
   "outputs": [],
   "source": [
    "import great_expectations as gx\n",
    "import pandas as pd\n",
    "from pyspark.sql import SparkSession\n",
    "from pyspark.sql import functions as F\n",
    "from pyspark.sql.types import StructField, StructType, StringType, IntegerType, TimestampType\n",
    "from datetime import datetime\n",
    "import re"
   ]
  },
  {
   "cell_type": "code",
   "execution_count": 96,
   "metadata": {},
   "outputs": [
    {
     "name": "stdout",
     "output_type": "stream",
     "text": [
      "Great Expectations version 1.0.3 is installed\n"
     ]
    }
   ],
   "source": [
    "print(f'Great Expectations version {gx.__version__} is installed')\n",
    "\n",
    "class ExpectationGenerator:\n",
    "    def __init__(self, rule: dict) -> None:\n",
    "        self.rule = rule\n",
    "        self.fieldName = rule['field_name']\n",
    "        self.meta = dict(\n",
    "            expectation=rule['expectation'],\n",
    "            action=rule['expectation_action'],\n",
    "            operator=rule['operator']\n",
    "        )\n",
    "        \n",
    "    def required(self):\n",
    "        return gx.expectations.ExpectColumnValuesToNotBeNull(\n",
    "            column=self.fieldName,\n",
    "            meta=self.meta\n",
    "        )\n",
    "    \n",
    "    def choice(self, *value_set):\n",
    "        value_set = list(value_set)\n",
    "        return gx.expectations.ExpectColumnValuesToBeInSet(\n",
    "            column=self.fieldName,\n",
    "            value_set=value_set,\n",
    "            meta=self.meta\n",
    "        )\n",
    "    \n",
    "    def string_format(self, regex: str):\n",
    "        return gx.expectations.ExpectColumnValuesToMatchRegex(\n",
    "            column=self.fieldName,\n",
    "            regex=regex,\n",
    "            meta=self.meta\n",
    "        )"
   ]
  },
  {
   "cell_type": "code",
   "execution_count": 97,
   "metadata": {},
   "outputs": [],
   "source": [
    "spark = SparkSession.builder.appName(\"GE_Test\").getOrCreate()"
   ]
  },
  {
   "cell_type": "code",
   "execution_count": 98,
   "metadata": {},
   "outputs": [
    {
     "name": "stdout",
     "output_type": "stream",
     "text": [
      "+-------+---------------+---------------+----+-------------------+\n",
      "|user_id|name           |email          |age |signup_date        |\n",
      "+-------+---------------+---------------+----+-------------------+\n",
      "|1      |John Doe       |john@email.com |25  |2023-01-01 00:00:00|\n",
      "|2      |Jensen Nguyen  |jane@email.com |30  |2023-02-01 00:00:00|\n",
      "|3      |Bob Smith      |invalid-email  |-5  |2024-01-01 00:00:00|\n",
      "|4      |Alice Brown    |alice@email.com|40  |2023-03-01 00:00:00|\n",
      "|5      |               |null           |null|null               |\n",
      "|6      |Jensen Nguyen 2|null           |30  |2023-02-01 00:00:00|\n",
      "+-------+---------------+---------------+----+-------------------+\n",
      "\n"
     ]
    }
   ],
   "source": [
    "def create_sample_data():\n",
    "    schema = StructType([\n",
    "        StructField(\"user_id\", IntegerType(), True),\n",
    "        StructField(\"name\", StringType(), True),\n",
    "        StructField(\"email\", StringType(), True),\n",
    "        StructField(\"age\", IntegerType(), True),\n",
    "        StructField(\"signup_date\", TimestampType(), True)\n",
    "    ])\n",
    "\n",
    "    data = [\n",
    "        (1, \"John Doe\", \"john@email.com\", 25, datetime(2023, 1, 1)),\n",
    "        (2, \"Jensen Nguyen\", \"jane@email.com\", 30, datetime(2023, 2, 1)),\n",
    "        (3, \"Bob Smith\", \"invalid-email\", -5, datetime(2024, 1, 1)),\n",
    "        (4, \"Alice Brown\", \"alice@email.com\", 40, datetime(2023, 3, 1)),\n",
    "        (5, \"\", None, None, None),\n",
    "        (6, \"Jensen Nguyen 2\", None, 30, datetime(2023, 2, 1))\n",
    "    ]\n",
    "    return spark.createDataFrame(data, schema=schema)\n",
    "\n",
    "# Create test data\n",
    "df = create_sample_data()\n",
    "\n",
    "df.show(truncate=False)"
   ]
  },
  {
   "cell_type": "code",
   "execution_count": 99,
   "metadata": {},
   "outputs": [
    {
     "name": "stdout",
     "output_type": "stream",
     "text": [
      "suite {\n",
      "  \"name\": \"new_test_suite\",\n",
      "  \"id\": \"53778fc4-ae6a-45da-920e-f50532b0bb8e\",\n",
      "  \"expectations\": [],\n",
      "  \"meta\": {\n",
      "    \"great_expectations_version\": \"1.0.3\"\n",
      "  },\n",
      "  \"notes\": null\n",
      "}\n"
     ]
    }
   ],
   "source": [
    "# Initialize Great Expectations context\n",
    "context = gx.get_context()\n",
    "\n",
    "# Create rules for testing\n",
    "rules = [\n",
    "    {\n",
    "        'field_name': 'name',\n",
    "        'expectation': 'required',\n",
    "        'expectation_action': 'warn',\n",
    "        'operator': 'not_null'\n",
    "    },\n",
    "    {\n",
    "        'field_name': 'email',\n",
    "        'expectation': 'required and string_format(^[a-zA-Z0-9._%+-]+@[a-zA-Z0-9.-]+\\\\.[a-zA-Z]{2,}$)',\n",
    "        'expectation_action': 'warn',\n",
    "        'operator': 'not_null'\n",
    "    }\n",
    "]\n",
    "\n",
    "# Create and add expectations\n",
    "suite = context.suites.add(\n",
    "    gx.core.expectation_suite.ExpectationSuite(\n",
    "        name=\"new_test_suite\"\n",
    "    )\n",
    ")\n",
    "\n",
    "# Before adding expectations\n",
    "print('suite', suite)"
   ]
  },
  {
   "cell_type": "code",
   "execution_count": 100,
   "metadata": {},
   "outputs": [],
   "source": [
    "# for rule in rules:\n",
    "#     generator = ExpectationGenerator(rule)\n",
    "#     if 'required' in rule['expectation']:\n",
    "#         expectation = generator.required()\n",
    "#     elif 'string_format' in rule['expectation']:\n",
    "#         regex = rule['expectation'].split('(')[1].rstrip(')')\n",
    "#         expectation = generator.string_format(regex)\n",
    "#     suite.add_expectation(expectation)\n",
    "    \n",
    "# # After adding expectations\n",
    "# print('suite', suite)\n",
    "\n",
    "for rule in rules:\n",
    "    generator = ExpectationGenerator(rule)\n",
    "    raw_expectation = rule['expectation']\n",
    "    \n",
    "    # Add required validation if present\n",
    "    if 'required' in raw_expectation:\n",
    "        suite.add_expectation(generator.required())\n",
    "    \n",
    "    # Add string format validation if present\n",
    "    if 'string_format' in raw_expectation:\n",
    "        pattern = r'string_format\\((.*?)\\)'\n",
    "        match = re.search(pattern, raw_expectation)\n",
    "        if match:\n",
    "            regex = match.group(1)\n",
    "            suite.add_expectation(generator.string_format(regex))"
   ]
  },
  {
   "cell_type": "code",
   "execution_count": 101,
   "metadata": {},
   "outputs": [],
   "source": [
    "# Create batch definition\n",
    "batch_definition = context.data_sources.add_spark(\n",
    "    name=\"my_spark_datasource\"\n",
    ").add_dataframe_asset(\n",
    "    name=\"my_data_asset\"\n",
    ").add_batch_definition_whole_dataframe(\n",
    "    name=\"my_batch\"\n",
    ")\n",
    "\n",
    "# print('batch_definition', batch_definition)"
   ]
  },
  {
   "cell_type": "code",
   "execution_count": 102,
   "metadata": {},
   "outputs": [],
   "source": [
    "# Create validation definition\n",
    "validation_definition = context.validation_definitions.add(\n",
    "    gx.core.validation_definition.ValidationDefinition(\n",
    "        name=\"my_validation\",\n",
    "        data=batch_definition,\n",
    "        suite=suite\n",
    "    )\n",
    ")\n",
    "\n",
    "# After creating validation definition\n",
    "# print('validation_definition', validation_definition)"
   ]
  },
  {
   "cell_type": "code",
   "execution_count": 103,
   "metadata": {},
   "outputs": [
    {
     "data": {
      "application/vnd.jupyter.widget-view+json": {
       "model_id": "28000086c51e4924bbed6c5daf1344be",
       "version_major": 2,
       "version_minor": 0
      },
      "text/plain": [
       "Calculating Metrics:   0%|          | 0/22 [00:00<?, ?it/s]"
      ]
     },
     "metadata": {},
     "output_type": "display_data"
    },
    {
     "name": "stdout",
     "output_type": "stream",
     "text": [
      "\n",
      "Validation Results:\n",
      "==================\n"
     ]
    }
   ],
   "source": [
    "# Create and run checkpoint\n",
    "checkpoint = context.checkpoints.add(\n",
    "    gx.checkpoint.checkpoint.Checkpoint(\n",
    "        name=\"my_checkpoint\",\n",
    "        validation_definitions=[validation_definition]\n",
    "    )\n",
    ")\n",
    "\n",
    "results = checkpoint.run(\n",
    "    batch_parameters={\"dataframe\": df}\n",
    ")\n",
    "\n",
    "# Print results\n",
    "print(\"\\nValidation Results:\")\n",
    "print(\"==================\")\n",
    "\n",
    "# # Get the first (and only) validation result from run_results\n",
    "# validation_result = list(results.run_results.values())[0]\n",
    "# print(\"\\nDetailed Results:\")\n",
    "# for result in validation_result['results']:\n",
    "#     print(f\"\\nExpectation: {result['expectation_config']['type']}\")\n",
    "#     print(f\"Column: {result['expectation_config']['kwargs']['column']}\")\n",
    "#     print(f\"Success: {result['success']}\")\n",
    "#     print(f\"Unexpected count: {result['result'].get('unexpected_count', 0)}\")\n",
    "#     if not result['success']:\n",
    "#         print(f\"Unexpected values: {result['result'].get('partial_unexpected_list', [])}\")"
   ]
  },
  {
   "cell_type": "code",
   "execution_count": 106,
   "metadata": {},
   "outputs": [
    {
     "name": "stdout",
     "output_type": "stream",
     "text": [
      "\n",
      "Results DataFrame:\n"
     ]
    },
    {
     "data": {
      "text/html": [
       "<div>\n",
       "<style scoped>\n",
       "    .dataframe tbody tr th:only-of-type {\n",
       "        vertical-align: middle;\n",
       "    }\n",
       "\n",
       "    .dataframe tbody tr th {\n",
       "        vertical-align: top;\n",
       "    }\n",
       "\n",
       "    .dataframe thead th {\n",
       "        text-align: right;\n",
       "    }\n",
       "</style>\n",
       "<table border=\"1\" class=\"dataframe\">\n",
       "  <thead>\n",
       "    <tr style=\"text-align: right;\">\n",
       "      <th></th>\n",
       "      <th>expectation_type</th>\n",
       "      <th>column</th>\n",
       "      <th>status</th>\n",
       "      <th>unexpected_count</th>\n",
       "      <th>unexpected_value</th>\n",
       "      <th>user_id</th>\n",
       "    </tr>\n",
       "  </thead>\n",
       "  <tbody>\n",
       "    <tr>\n",
       "      <th>0</th>\n",
       "      <td>expect_column_values_to_not_be_null</td>\n",
       "      <td>name</td>\n",
       "      <td>True</td>\n",
       "      <td>0</td>\n",
       "      <td>None</td>\n",
       "      <td>NaN</td>\n",
       "    </tr>\n",
       "    <tr>\n",
       "      <th>1</th>\n",
       "      <td>expect_column_values_to_not_be_null</td>\n",
       "      <td>email</td>\n",
       "      <td>False</td>\n",
       "      <td>2</td>\n",
       "      <td>None</td>\n",
       "      <td>5.0</td>\n",
       "    </tr>\n",
       "    <tr>\n",
       "      <th>2</th>\n",
       "      <td>expect_column_values_to_not_be_null</td>\n",
       "      <td>email</td>\n",
       "      <td>False</td>\n",
       "      <td>2</td>\n",
       "      <td>None</td>\n",
       "      <td>6.0</td>\n",
       "    </tr>\n",
       "    <tr>\n",
       "      <th>3</th>\n",
       "      <td>expect_column_values_to_match_regex</td>\n",
       "      <td>email</td>\n",
       "      <td>False</td>\n",
       "      <td>1</td>\n",
       "      <td>invalid-email</td>\n",
       "      <td>3.0</td>\n",
       "    </tr>\n",
       "  </tbody>\n",
       "</table>\n",
       "</div>"
      ],
      "text/plain": [
       "                      expectation_type column  status  unexpected_count  \\\n",
       "0  expect_column_values_to_not_be_null   name    True                 0   \n",
       "1  expect_column_values_to_not_be_null  email   False                 2   \n",
       "2  expect_column_values_to_not_be_null  email   False                 2   \n",
       "3  expect_column_values_to_match_regex  email   False                 1   \n",
       "\n",
       "  unexpected_value  user_id  \n",
       "0             None      NaN  \n",
       "1             None      5.0  \n",
       "2             None      6.0  \n",
       "3    invalid-email      3.0  "
      ]
     },
     "execution_count": 106,
     "metadata": {},
     "output_type": "execute_result"
    }
   ],
   "source": [
    "# Get the validation results and create a DataFrame\n",
    "validation_result = list(results.run_results.values())[0]\n",
    "results_data = []\n",
    "\n",
    "for result in validation_result['results']:\n",
    "    result_dict = {\n",
    "        'expectation_type': result['expectation_config']['type'],\n",
    "        'column': result['expectation_config']['kwargs']['column'],\n",
    "        'status': result['success'],\n",
    "        'unexpected_count': result['result'].get('unexpected_count', 0)\n",
    "    }\n",
    "    \n",
    "    # Add unexpected values and user_ids if present and the validation failed\n",
    "    if not result['success']:\n",
    "        unexpected_values = result['result'].get('partial_unexpected_list', [])\n",
    "        \n",
    "        # Get the user_ids for failed records by matching the values\n",
    "        column_name = result['expectation_config']['kwargs']['column']\n",
    "        if result['expectation_config']['type'] == 'expect_column_values_to_not_be_null':\n",
    "            # For null values\n",
    "            user_ids = df.filter(F.col(column_name).isNull()).select('user_id').rdd.map(lambda x: x[0]).collect()\n",
    "        else:\n",
    "            # For invalid values (like invalid-email)\n",
    "            user_ids = df.filter(F.col(column_name).isin(unexpected_values)).select('user_id').rdd.map(lambda x: x[0]).collect()\n",
    "        \n",
    "        # Create a row for each unexpected value and user_id pair\n",
    "        for unexpected_value, user_id in zip(unexpected_values, user_ids):\n",
    "            row_dict = result_dict.copy()\n",
    "            row_dict['unexpected_value'] = unexpected_value\n",
    "            row_dict['user_id'] = user_id\n",
    "            results_data.append(row_dict)\n",
    "    else:\n",
    "        # For successful validations, add a single row with empty values\n",
    "        result_dict['unexpected_value'] = None\n",
    "        result_dict['user_id'] = None\n",
    "        results_data.append(result_dict)\n",
    "\n",
    "# Create DataFrame from results\n",
    "results_df = pd.DataFrame(results_data)\n",
    "\n",
    "# Display the results DataFrame\n",
    "print(\"\\nResults DataFrame:\")\n",
    "results_df"
   ]
  },
  {
   "cell_type": "code",
   "execution_count": null,
   "metadata": {},
   "outputs": [],
   "source": []
  },
  {
   "cell_type": "code",
   "execution_count": null,
   "metadata": {},
   "outputs": [],
   "source": []
  }
 ],
 "metadata": {
  "kernelspec": {
   "display_name": "Python 3",
   "language": "python",
   "name": "python3"
  },
  "language_info": {
   "codemirror_mode": {
    "name": "ipython",
    "version": 3
   },
   "file_extension": ".py",
   "mimetype": "text/x-python",
   "name": "python",
   "nbconvert_exporter": "python",
   "pygments_lexer": "ipython3",
   "version": "3.8.18"
  }
 },
 "nbformat": 4,
 "nbformat_minor": 2
}

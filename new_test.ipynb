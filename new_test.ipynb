{
 "cells": [
  {
   "cell_type": "code",
   "execution_count": 22,
   "metadata": {},
   "outputs": [
    {
     "name": "stdout",
     "output_type": "stream",
     "text": [
      "Great Expectations version 1.0.3 is installed\n"
     ]
    }
   ],
   "source": [
    "# Install required packages\n",
    "# !pip install --upgrade pip\n",
    "# !pip install pyspark great_expectations==1.1.3\n",
    "\n",
    "import great_expectations as gx\n",
    "import pandas as pd\n",
    "from pyspark.sql import SparkSession\n",
    "from pyspark.sql import functions as F\n",
    "from pyspark.sql.types import StructField, StructType, StringType, IntegerType, TimestampType\n",
    "from datetime import datetime\n",
    "import re\n",
    "\n",
    "print(f'Great Expectations version {gx.__version__} is installed')"
   ]
  },
  {
   "cell_type": "code",
   "execution_count": 23,
   "metadata": {},
   "outputs": [],
   "source": [
    "class ExpectationGenerator:\n",
    "    \"\"\"\n",
    "    A class to generate Great Expectations expectations based on provided rules.\n",
    "    \"\"\"\n",
    "    def __init__(self, rule: dict) -> None:\n",
    "        self.rule = rule\n",
    "        self.fieldName = rule['field_name']\n",
    "        self.meta = dict(\n",
    "            expectation=rule['expectation'],\n",
    "            action=rule['expectation_action'],\n",
    "            operator=rule['operator']\n",
    "        )\n",
    "        \n",
    "    def required(self):\n",
    "        return gx.expectations.ExpectColumnValuesToNotBeNull(\n",
    "            column=self.fieldName,\n",
    "            meta=self.meta\n",
    "        )\n",
    "    \n",
    "    def string_format(self, regex: str):\n",
    "        return gx.expectations.ExpectColumnValuesToMatchRegex(\n",
    "            column=self.fieldName,\n",
    "            regex=regex,\n",
    "            meta=self.meta\n",
    "        )"
   ]
  },
  {
   "cell_type": "code",
   "execution_count": 24,
   "metadata": {},
   "outputs": [],
   "source": [
    "def create_sample_data():\n",
    "    \"\"\"Creates a sample Spark DataFrame for testing\"\"\"\n",
    "    schema = StructType([\n",
    "        StructField(\"user_id\", IntegerType(), True),\n",
    "        StructField(\"name\", StringType(), True),\n",
    "        StructField(\"email\", StringType(), True),\n",
    "        StructField(\"age\", IntegerType(), True),\n",
    "        StructField(\"signup_date\", TimestampType(), True)\n",
    "    ])\n",
    "\n",
    "    data = [\n",
    "        (1, \"John Doe\", \"john@email.com\", 25, datetime(2023, 1, 1)),\n",
    "        (2, \"Jensen Nguyen\", \"jane@email.com\", 30, datetime(2023, 2, 1)),\n",
    "        (3, \"Bob Smith\", \"invalid-email\", -5, datetime(2024, 1, 1)),\n",
    "        (4, \"Alice Brown\", \"alice@email.com\", 40, datetime(2023, 3, 1)),\n",
    "        (5, \"\", None, None, None),\n",
    "        (6, \"Jensen Nguyen 2\", None, 30, datetime(2023, 2, 1))\n",
    "    ]\n",
    "    return spark.createDataFrame(data, schema=schema)"
   ]
  },
  {
   "cell_type": "code",
   "execution_count": 25,
   "metadata": {},
   "outputs": [],
   "source": [
    "def _get_rule_components(expectation):\n",
    "    \"\"\"Split rule components and handle required rules\"\"\"\n",
    "    components = re.split(r'(\\s+or\\s+|\\s+and\\s+)', expectation)\n",
    "    items = []\n",
    "    for item in components:\n",
    "        strip_item = item.strip()\n",
    "        items.append(strip_item)\n",
    "    return items"
   ]
  },
  {
   "cell_type": "code",
   "execution_count": 26,
   "metadata": {},
   "outputs": [],
   "source": [
    "def create_expectation_suite(context, suite_name: str, rules: list):\n",
    "    \"\"\"Creates an expectation suite from rules\"\"\"\n",
    "    suite = context.suites.add(\n",
    "        gx.core.expectation_suite.ExpectationSuite(name=suite_name)\n",
    "    )\n",
    "    \n",
    "    split_rules = []\n",
    "    for rule in rules:\n",
    "        components = [None] + _get_rule_components(rule['expectation'])\n",
    "        for rule_idx in range(0, len(components), 2):\n",
    "            split_rule = rule.copy()\n",
    "            split_rule['operator'] = components[rule_idx]\n",
    "            split_rule['expectation_single'] = components[rule_idx+1]\n",
    "            split_rules.append(split_rule)\n",
    "    \n",
    "    for rule in split_rules:\n",
    "        generator = ExpectationGenerator(rule)\n",
    "        raw_expectation = rule['expectation_single']\n",
    "        \n",
    "        if 'required' in raw_expectation:\n",
    "            suite.add_expectation(generator.required())\n",
    "        \n",
    "        if 'string_format' in raw_expectation:\n",
    "            pattern = r'string_format\\((.*?)\\)'\n",
    "            match = re.search(pattern, raw_expectation)\n",
    "            if match:\n",
    "                regex = match.group(1)\n",
    "                suite.add_expectation(generator.string_format(regex))\n",
    "    \n",
    "    return suite"
   ]
  },
  {
   "cell_type": "code",
   "execution_count": 27,
   "metadata": {},
   "outputs": [
    {
     "name": "stdout",
     "output_type": "stream",
     "text": [
      "+-------+---------------+---------------+----+-------------------+\n",
      "|user_id|name           |email          |age |signup_date        |\n",
      "+-------+---------------+---------------+----+-------------------+\n",
      "|1      |John Doe       |john@email.com |25  |2023-01-01 00:00:00|\n",
      "|2      |Jensen Nguyen  |jane@email.com |30  |2023-02-01 00:00:00|\n",
      "|3      |Bob Smith      |invalid-email  |-5  |2024-01-01 00:00:00|\n",
      "|4      |Alice Brown    |alice@email.com|40  |2023-03-01 00:00:00|\n",
      "|5      |               |null           |null|null               |\n",
      "|6      |Jensen Nguyen 2|null           |30  |2023-02-01 00:00:00|\n",
      "+-------+---------------+---------------+----+-------------------+\n",
      "\n"
     ]
    }
   ],
   "source": [
    "# Initialize SparkSession\n",
    "spark = SparkSession.builder.appName(\"GE_Test\").getOrCreate()\n",
    "\n",
    "# Create test data\n",
    "df = create_sample_data()\n",
    "df.show(truncate=False)"
   ]
  },
  {
   "cell_type": "code",
   "execution_count": 28,
   "metadata": {},
   "outputs": [
    {
     "data": {
      "application/vnd.jupyter.widget-view+json": {
       "model_id": "c0007110c5334a9a85ff99b714395218",
       "version_major": 2,
       "version_minor": 0
      },
      "text/plain": [
       "Calculating Metrics:   0%|          | 0/22 [00:00<?, ?it/s]"
      ]
     },
     "metadata": {},
     "output_type": "display_data"
    }
   ],
   "source": [
    "# Initialize Great Expectations context\n",
    "context = gx.get_context()\n",
    "\n",
    "# Create test rules\n",
    "rules = [\n",
    "    {\n",
    "        'field_name': 'name',\n",
    "        'expectation': 'required',\n",
    "        'expectation_action': 'warn',\n",
    "        'operator': 'not_null'\n",
    "    },\n",
    "    {\n",
    "        'field_name': 'email',\n",
    "        'expectation': 'required and string_format(^[a-zA-Z0-9._%+-]+@[a-zA-Z0-9.-]+\\\\.[a-zA-Z]{2,}$)',\n",
    "        'expectation_action': 'warn',\n",
    "        'operator': 'not_null'\n",
    "    }\n",
    "]\n",
    "\n",
    "# Create expectation suite\n",
    "suite = create_expectation_suite(context, \"new_test_suite\", rules)\n",
    "\n",
    "# Create batch definition\n",
    "batch_definition = context.data_sources.add_spark(\n",
    "    name=\"my_spark_datasource\"\n",
    ").add_dataframe_asset(\n",
    "    name=\"my_data_asset\"\n",
    ").add_batch_definition_whole_dataframe(\n",
    "    name=\"my_batch\"\n",
    ")\n",
    "\n",
    "# Create validation definition\n",
    "validation_definition = context.validation_definitions.add(\n",
    "    gx.core.validation_definition.ValidationDefinition(\n",
    "        name=\"my_validation\",\n",
    "        data=batch_definition,\n",
    "        suite=suite\n",
    "    )\n",
    ")\n",
    "\n",
    "# Create and run checkpoint\n",
    "checkpoint = context.checkpoints.add(\n",
    "    gx.checkpoint.checkpoint.Checkpoint(\n",
    "        name=\"my_checkpoint\",\n",
    "        validation_definitions=[validation_definition]\n",
    "    )\n",
    ")\n",
    "\n",
    "results = checkpoint.run(\n",
    "    batch_parameters={\"dataframe\": df}\n",
    ")\n"
   ]
  },
  {
   "cell_type": "code",
   "execution_count": 29,
   "metadata": {},
   "outputs": [],
   "source": [
    "\n",
    "# Process validation results\n",
    "validation_result = list(results.run_results.values())[0]\n",
    "results_data = []\n",
    "\n",
    "for result in validation_result['results']:\n",
    "    result_dict = {\n",
    "        'expectation_type': result['expectation_config']['type'],\n",
    "        'column': result['expectation_config']['kwargs']['column'],\n",
    "        'status': result['success'],\n",
    "        'unexpected_count': result['result'].get('unexpected_count', 0)\n",
    "    }\n",
    "    \n",
    "    if not result['success']:\n",
    "        unexpected_values = result['result'].get('partial_unexpected_list', [])\n",
    "        column_name = result['expectation_config']['kwargs']['column']\n",
    "        \n",
    "        if result['expectation_config']['type'] == 'expect_column_values_to_not_be_null':\n",
    "            user_ids = df.filter(F.col(column_name).isNull()).select('user_id').rdd.map(lambda x: x[0]).collect()\n",
    "        else:\n",
    "            user_ids = df.filter(F.col(column_name).isin(unexpected_values)).select('user_id').rdd.map(lambda x: x[0]).collect()\n",
    "        \n",
    "        for unexpected_value, user_id in zip(unexpected_values, user_ids):\n",
    "            row_dict = result_dict.copy()\n",
    "            row_dict['unexpected_value'] = unexpected_value\n",
    "            row_dict['user_id'] = user_id\n",
    "            results_data.append(row_dict)\n",
    "    else:\n",
    "        result_dict['unexpected_value'] = None\n",
    "        result_dict['user_id'] = None\n",
    "        results_data.append(result_dict)"
   ]
  },
  {
   "cell_type": "code",
   "execution_count": 30,
   "metadata": {},
   "outputs": [
    {
     "name": "stdout",
     "output_type": "stream",
     "text": [
      "\n",
      "Results DataFrame:\n",
      "\n",
      "##########################\n"
     ]
    },
    {
     "data": {
      "text/html": [
       "<div>\n",
       "<style scoped>\n",
       "    .dataframe tbody tr th:only-of-type {\n",
       "        vertical-align: middle;\n",
       "    }\n",
       "\n",
       "    .dataframe tbody tr th {\n",
       "        vertical-align: top;\n",
       "    }\n",
       "\n",
       "    .dataframe thead th {\n",
       "        text-align: right;\n",
       "    }\n",
       "</style>\n",
       "<table border=\"1\" class=\"dataframe\">\n",
       "  <thead>\n",
       "    <tr style=\"text-align: right;\">\n",
       "      <th></th>\n",
       "      <th>expectation_type</th>\n",
       "      <th>column</th>\n",
       "      <th>status</th>\n",
       "      <th>unexpected_count</th>\n",
       "      <th>unexpected_value</th>\n",
       "      <th>user_id</th>\n",
       "    </tr>\n",
       "  </thead>\n",
       "  <tbody>\n",
       "    <tr>\n",
       "      <th>0</th>\n",
       "      <td>expect_column_values_to_not_be_null</td>\n",
       "      <td>name</td>\n",
       "      <td>True</td>\n",
       "      <td>0</td>\n",
       "      <td>None</td>\n",
       "      <td>NaN</td>\n",
       "    </tr>\n",
       "    <tr>\n",
       "      <th>1</th>\n",
       "      <td>expect_column_values_to_not_be_null</td>\n",
       "      <td>email</td>\n",
       "      <td>False</td>\n",
       "      <td>2</td>\n",
       "      <td>None</td>\n",
       "      <td>5.0</td>\n",
       "    </tr>\n",
       "    <tr>\n",
       "      <th>2</th>\n",
       "      <td>expect_column_values_to_not_be_null</td>\n",
       "      <td>email</td>\n",
       "      <td>False</td>\n",
       "      <td>2</td>\n",
       "      <td>None</td>\n",
       "      <td>6.0</td>\n",
       "    </tr>\n",
       "    <tr>\n",
       "      <th>3</th>\n",
       "      <td>expect_column_values_to_match_regex</td>\n",
       "      <td>email</td>\n",
       "      <td>False</td>\n",
       "      <td>1</td>\n",
       "      <td>invalid-email</td>\n",
       "      <td>3.0</td>\n",
       "    </tr>\n",
       "  </tbody>\n",
       "</table>\n",
       "</div>"
      ],
      "text/plain": [
       "                      expectation_type column  status  unexpected_count  \\\n",
       "0  expect_column_values_to_not_be_null   name    True                 0   \n",
       "1  expect_column_values_to_not_be_null  email   False                 2   \n",
       "2  expect_column_values_to_not_be_null  email   False                 2   \n",
       "3  expect_column_values_to_match_regex  email   False                 1   \n",
       "\n",
       "  unexpected_value  user_id  \n",
       "0             None      NaN  \n",
       "1             None      5.0  \n",
       "2             None      6.0  \n",
       "3    invalid-email      3.0  "
      ]
     },
     "metadata": {},
     "output_type": "display_data"
    }
   ],
   "source": [
    "# Create and display results DataFrame\n",
    "results_df = pd.DataFrame(results_data)\n",
    "print(\"\\nResults DataFrame:\")\n",
    "print(\"\\n##########################\")\n",
    "display(results_df)"
   ]
  },
  {
   "cell_type": "code",
   "execution_count": null,
   "metadata": {},
   "outputs": [],
   "source": []
  },
  {
   "cell_type": "code",
   "execution_count": null,
   "metadata": {},
   "outputs": [],
   "source": []
  },
  {
   "cell_type": "code",
   "execution_count": null,
   "metadata": {},
   "outputs": [],
   "source": []
  },
  {
   "cell_type": "code",
   "execution_count": null,
   "metadata": {},
   "outputs": [],
   "source": []
  },
  {
   "cell_type": "code",
   "execution_count": null,
   "metadata": {},
   "outputs": [],
   "source": []
  },
  {
   "cell_type": "code",
   "execution_count": null,
   "metadata": {},
   "outputs": [],
   "source": []
  },
  {
   "cell_type": "code",
   "execution_count": null,
   "metadata": {},
   "outputs": [],
   "source": []
  },
  {
   "cell_type": "code",
   "execution_count": null,
   "metadata": {},
   "outputs": [],
   "source": []
  }
 ],
 "metadata": {
  "kernelspec": {
   "display_name": "Python 3",
   "language": "python",
   "name": "python3"
  },
  "language_info": {
   "codemirror_mode": {
    "name": "ipython",
    "version": 3
   },
   "file_extension": ".py",
   "mimetype": "text/x-python",
   "name": "python",
   "nbconvert_exporter": "python",
   "pygments_lexer": "ipython3",
   "version": "3.8.18"
  }
 },
 "nbformat": 4,
 "nbformat_minor": 2
}

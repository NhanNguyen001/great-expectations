{
 "cells": [
  {
   "cell_type": "code",
   "execution_count": 3,
   "metadata": {},
   "outputs": [
    {
     "name": "stderr",
     "output_type": "stream",
     "text": [
      "[Stage 0:>                                                          (0 + 8) / 8]\r"
     ]
    },
    {
     "name": "stdout",
     "output_type": "stream",
     "text": [
      "+-----+----------+----------+----------------+\n",
      "|group|      date|valid_flag|has_future_valid|\n",
      "+-----+----------+----------+----------------+\n",
      "|    A|2024-01-01|         1|            true|\n",
      "|    A|2024-01-02|         0|            true|\n",
      "|    A|2024-01-03|         1|            null|\n",
      "|    A|2024-01-04|         0|            null|\n",
      "|    A|2024-01-05|         0|            null|\n",
      "|    B|2024-01-01|         1|            true|\n",
      "|    B|2024-01-02|         0|            true|\n",
      "|    B|2024-01-03|         1|            null|\n",
      "+-----+----------+----------+----------------+\n",
      "\n"
     ]
    },
    {
     "name": "stderr",
     "output_type": "stream",
     "text": [
      "                                                                                \r"
     ]
    }
   ],
   "source": [
    "from pyspark.sql import Window\n",
    "from pyspark.sql.functions import *\n",
    "from pyspark.sql import SparkSession\n",
    "from pyspark.sql.types import StructField, StructType, StringType, IntegerType, TimestampType\n",
    "\n",
    "# Sample data\n",
    "data = [\n",
    "    (\"A\", \"2024-01-01\", 1),\n",
    "    (\"A\", \"2024-01-02\", 0),\n",
    "    (\"A\", \"2024-01-03\", 1),\n",
    "    (\"A\", \"2024-01-04\", 0),\n",
    "    (\"A\", \"2024-01-05\", 0),\n",
    "    (\"B\", \"2024-01-01\", 1),\n",
    "    (\"B\", \"2024-01-02\", 0),\n",
    "    (\"B\", \"2024-01-03\", 1)\n",
    "]\n",
    "\n",
    "spark = SparkSession.builder.appName(\"GE_Test\").getOrCreate()\n",
    "\n",
    "df = spark.createDataFrame(data, [\"group\", \"date\", \"valid_flag\"])\n",
    "\n",
    "# Window specification\n",
    "window_spec = Window.partitionBy(\"group\").orderBy(\"date\")\n",
    "\n",
    "# Using rowsBetween(1, Window.unboundedFollowing)\n",
    "df_with_future = df.withColumn(\n",
    "    \"has_future_valid\",\n",
    "    last(\n",
    "        when(col(\"valid_flag\") == 1, True),\n",
    "        ignorenulls=True\n",
    "    ).over(window_spec.rowsBetween(1, Window.unboundedFollowing))\n",
    ")\n",
    "\n",
    "df_with_future.show()"
   ]
  },
  {
   "cell_type": "code",
   "execution_count": 4,
   "metadata": {},
   "outputs": [
    {
     "name": "stdout",
     "output_type": "stream",
     "text": [
      "+-----+----------+----------+----------+----------------+\n",
      "|group|      date|valid_flag|next_valid|has_future_valid|\n",
      "+-----+----------+----------+----------+----------------+\n",
      "|    A|2024-01-01|         1|         0|            true|\n",
      "|    A|2024-01-02|         0|         1|            true|\n",
      "|    A|2024-01-03|         1|         0|            null|\n",
      "|    A|2024-01-04|         0|         0|            null|\n",
      "|    A|2024-01-05|         0|      null|            null|\n",
      "|    B|2024-01-01|         1|         0|            true|\n",
      "|    B|2024-01-02|         0|         1|            true|\n",
      "|    B|2024-01-03|         1|      null|            null|\n",
      "+-----+----------+----------+----------+----------------+\n",
      "\n"
     ]
    }
   ],
   "source": [
    "# Alternative approach using lead\n",
    "df_optimized = df.withColumn(\n",
    "    \"next_valid\",\n",
    "    lead(col(\"valid_flag\"), 1).over(window_spec)\n",
    ").withColumn(\n",
    "    \"has_future_valid\",\n",
    "    when(\n",
    "        col(\"next_valid\") == 1,\n",
    "        True\n",
    "    ).when(\n",
    "        lead(col(\"next_valid\"), 1).over(window_spec) == 1, \n",
    "        True\n",
    "    ).otherwise(None)\n",
    ")\n",
    "\n",
    "df_optimized.show()"
   ]
  },
  {
   "cell_type": "code",
   "execution_count": null,
   "metadata": {},
   "outputs": [],
   "source": []
  }
 ],
 "metadata": {
  "kernelspec": {
   "display_name": "Python 3",
   "language": "python",
   "name": "python3"
  },
  "language_info": {
   "codemirror_mode": {
    "name": "ipython",
    "version": 3
   },
   "file_extension": ".py",
   "mimetype": "text/x-python",
   "name": "python",
   "nbconvert_exporter": "python",
   "pygments_lexer": "ipython3",
   "version": "3.8.18"
  }
 },
 "nbformat": 4,
 "nbformat_minor": 2
}
